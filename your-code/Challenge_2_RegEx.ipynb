{
 "cells": [
  {
   "cell_type": "code",
   "execution_count": 24,
   "metadata": {},
   "outputs": [
    {
     "name": "stdout",
     "output_type": "stream",
     "text": [
      "Enter minimum string length: 2\n",
      "Enter maximum string length: 7\n",
      "How many random strings to generate? 3\n",
      "['fo7', 'ox', '0dhfj', 'phfxe', 'xxp', '96', 'g0', 'h9voww']\n"
     ]
    }
   ],
   "source": [
    "import string\n",
    "import random\n",
    "import sys\n",
    "\n",
    "def RandomStringGenerator(n, chars=string.ascii_lowercase + string.digits):\n",
    "    return ''.join(random.choice(chars) for _ in range(random.randint(a,b)))\n",
    "\n",
    "def BatchStringGenerator(a,b,n):\n",
    "    r = []\n",
    "    for i in range(n+1):\n",
    "        str_random = RandomStringGenerator(n)\n",
    "        r.append(str_random)\n",
    "    try:\n",
    "        if a <b:\n",
    "            str_random\n",
    "    except :\n",
    "        sys.exit('Incorrect min and max string lengths. Try again.')\n",
    "    return r\n",
    "        \n",
    "a = int(input('Enter minimum string length: '))\n",
    "b = int(input('Enter maximum string length: '))\n",
    "n = int(input('How many random strings to generate? '))\n",
    "\n",
    "print(BatchStringGenerator(int(n), int(a), int(b)))"
   ]
  }
 ],
 "metadata": {
  "kernelspec": {
   "display_name": "Python 3",
   "language": "python",
   "name": "python3"
  },
  "language_info": {
   "codemirror_mode": {
    "name": "ipython",
    "version": 3
   },
   "file_extension": ".py",
   "mimetype": "text/x-python",
   "name": "python",
   "nbconvert_exporter": "python",
   "pygments_lexer": "ipython3",
   "version": "3.8.0"
  }
 },
 "nbformat": 4,
 "nbformat_minor": 4
}
