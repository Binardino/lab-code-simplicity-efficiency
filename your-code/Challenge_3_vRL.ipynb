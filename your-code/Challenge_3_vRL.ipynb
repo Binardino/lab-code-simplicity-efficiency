{
 "cells": [
  {
   "cell_type": "code",
   "execution_count": null,
   "metadata": {},
   "outputs": [],
   "source": [
    "#default of the software = erase double solutions\n",
    "\n",
    "# software does double for loop"
   ]
  },
  {
   "cell_type": "code",
   "execution_count": 1,
   "metadata": {},
   "outputs": [
    {
     "name": "stdout",
     "output_type": "stream",
     "text": [
      "What is the maximal length of the triangle side? Enter a number: 100\n",
      "The longest side possible is 97\n"
     ]
    }
   ],
   "source": [
    "#triangle [5,4,3] is a smallest possible solutions for Pythagorean theorem, keeping range(5,X), (4,X) & (3,X) makes sense\n",
    "# BUT by switching X by x, it skips the software half the calculation, avoiding double value, and divide by 2 the computing time\n",
    "# Moreover, no need to do another for loop just to get the 'm' result, since it can be including in the original for loop \n",
    "\n",
    "def my_function(X):\n",
    "    solutions = []\n",
    "    m = 0\n",
    "    for x in range(5, X):\n",
    "        for y in range(4, x):\n",
    "            for z in range(3, y):\n",
    "                if (x*x==y*y+z*z):\n",
    "                    solutions.append([x, y, z])\n",
    "                    #print([x,y,z])\n",
    "                    if m < max(x,y,z):\n",
    "                        m = max(x,y,z)\n",
    "    return m\n",
    "\n",
    "\n",
    "X = input(\"What is the maximal length of the triangle side? Enter a number: \")\n",
    "\n",
    "print(\"The longest side possible is \" + str(my_function(int(X))))"
   ]
  },
  {
   "cell_type": "code",
   "execution_count": null,
   "metadata": {},
   "outputs": [],
   "source": []
  }
 ],
 "metadata": {
  "kernelspec": {
   "display_name": "Python 3",
   "language": "python",
   "name": "python3"
  },
  "language_info": {
   "codemirror_mode": {
    "name": "ipython",
    "version": 3
   },
   "file_extension": ".py",
   "mimetype": "text/x-python",
   "name": "python",
   "nbconvert_exporter": "python",
   "pygments_lexer": "ipython3",
   "version": "3.8.0"
  }
 },
 "nbformat": 4,
 "nbformat_minor": 4
}
